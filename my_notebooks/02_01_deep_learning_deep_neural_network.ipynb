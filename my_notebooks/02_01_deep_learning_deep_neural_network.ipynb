{
 "cells": [
  {
   "cell_type": "code",
   "execution_count": 1,
   "metadata": {},
   "outputs": [],
   "source": [
    "# We're using the CIFAR-10 dataset, which is a collection of 60k 32x32 pixel color images. Each image is classified into one of 10 classes."
   ]
  },
  {
   "cell_type": "code",
   "execution_count": 2,
   "metadata": {},
   "outputs": [
    {
     "name": "stderr",
     "output_type": "stream",
     "text": [
      "Using TensorFlow backend.\n"
     ]
    }
   ],
   "source": [
    "import numpy as np\n",
    "from keras.utils import to_categorical\n",
    "from keras.datasets import cifar10"
   ]
  },
  {
   "cell_type": "code",
   "execution_count": 3,
   "metadata": {},
   "outputs": [
    {
     "name": "stdout",
     "output_type": "stream",
     "text": [
      "Downloading data from https://www.cs.toronto.edu/~kriz/cifar-10-python.tar.gz\n",
      "170500096/170498071 [==============================] - 116s 1us/step\n",
      "img_train shape: (50000, 32, 32, 3)\n",
      "img_test shape: (10000, 32, 32, 3)\n",
      "class_train shape: (50000, 1)\n",
      "class_test shape: (10000, 1)\n"
     ]
    }
   ],
   "source": [
    "# We use 50,000 images to train, 10,000 to test\n",
    "(img_train, class_train), (img_test, class_test) = cifar10.load_data()\n",
    "\n",
    "print(f\"img_train shape: {img_train.shape}\")\n",
    "print(f\"img_test shape: {img_test.shape}\")\n",
    "print(f\"class_train shape: {class_train.shape}\")\n",
    "print(f\"class_test shape: {class_test.shape}\")"
   ]
  },
  {
   "cell_type": "code",
   "execution_count": 4,
   "metadata": {},
   "outputs": [
    {
     "name": "stdout",
     "output_type": "stream",
     "text": [
      "img_train shape: (50000, 32, 32, 3)\n",
      "img_test shape: (10000, 32, 32, 3)\n",
      "class_train shape: (50000, 10)\n",
      "class_test shape: (10000, 10)\n"
     ]
    }
   ],
   "source": [
    "NUM_CLASSES = 10\n",
    "\n",
    "# We readjust these from values that go from 0-255 to 0.0-1.0\n",
    "img_train = img_train.astype(\"float32\") / 255.0\n",
    "img_test = img_test.astype(\"float32\") / 255.0\n",
    "\n",
    "# We redjust the class integers into one-hot vectors\n",
    "class_train = to_categorical(class_train, NUM_CLASSES)\n",
    "class_test = to_categorical(class_test, NUM_CLASSES)\n",
    "\n",
    "print(f\"img_train shape: {img_train.shape}\")\n",
    "print(f\"img_test shape: {img_test.shape}\")\n",
    "print(f\"class_train shape: {class_train.shape}\")\n",
    "print(f\"class_test shape: {class_test.shape}\")"
   ]
  },
  {
   "cell_type": "code",
   "execution_count": 5,
   "metadata": {},
   "outputs": [
    {
     "name": "stderr",
     "output_type": "stream",
     "text": [
      "WARNING: Logging before flag parsing goes to stderr.\n",
      "W0101 15:42:36.015712  3704 deprecation_wrapper.py:119] From C:\\Users\\dev-fek\\.conda\\envs\\generative\\lib\\site-packages\\keras\\backend\\tensorflow_backend.py:74: The name tf.get_default_graph is deprecated. Please use tf.compat.v1.get_default_graph instead.\n",
      "\n",
      "W0101 15:42:36.068711  3704 deprecation_wrapper.py:119] From C:\\Users\\dev-fek\\.conda\\envs\\generative\\lib\\site-packages\\keras\\backend\\tensorflow_backend.py:517: The name tf.placeholder is deprecated. Please use tf.compat.v1.placeholder instead.\n",
      "\n",
      "W0101 15:42:36.086712  3704 deprecation_wrapper.py:119] From C:\\Users\\dev-fek\\.conda\\envs\\generative\\lib\\site-packages\\keras\\backend\\tensorflow_backend.py:4138: The name tf.random_uniform is deprecated. Please use tf.random.uniform instead.\n",
      "\n"
     ]
    }
   ],
   "source": [
    "# We make the model here using a Functional Api instead of Sequential\n",
    "\n",
    "from keras.layers import Input, Flatten, Dense\n",
    "from keras.models import Model\n",
    "\n",
    "input_layer = Input(shape=(32,32,3))\n",
    "\n",
    "x = Flatten()(input_layer)\n",
    "\n",
    "x = Dense(units=200, activation = \"relu\")(x)\n",
    "x = Dense(units=150, activation = \"relu\")(x)\n",
    "\n",
    "output_layer = Dense(units=10, activation=\"softmax\")(x)\n",
    "\n",
    "model = Model(input_layer, output_layer)\n"
   ]
  }
 ],
 "metadata": {
  "kernelspec": {
   "display_name": "generative",
   "language": "python",
   "name": "generative"
  },
  "language_info": {
   "codemirror_mode": {
    "name": "ipython",
    "version": 3
   },
   "file_extension": ".py",
   "mimetype": "text/x-python",
   "name": "python",
   "nbconvert_exporter": "python",
   "pygments_lexer": "ipython3",
   "version": "3.7.15"
  },
  "vscode": {
   "interpreter": {
    "hash": "9742b605070fb6ec015c7c5ad50cb39828de0a059752fcc94d37be14895a0fcd"
   }
  }
 },
 "nbformat": 4,
 "nbformat_minor": 4
}
